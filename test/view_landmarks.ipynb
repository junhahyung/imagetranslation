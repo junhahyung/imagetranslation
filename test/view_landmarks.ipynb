{
 "cells": [
  {
   "cell_type": "code",
   "execution_count": 1,
   "metadata": {},
   "outputs": [],
   "source": [
    "import os\n",
    "import torch\n",
    "import numpy as np\n",
    "import matplotlib.pyplot as plt\n",
    "\n",
    "#from tester import Landmark_Tester\n",
    "#from utils import get_all_landmark_loaders, get_config, get_model_list\n",
    "from utils._utils import get_config\n",
    "from utils.data_loader import get_all_data_loaders\n",
    "from PIL import Image"
   ]
  },
  {
   "cell_type": "code",
   "execution_count": 2,
   "metadata": {},
   "outputs": [
    {
     "name": "stderr",
     "output_type": "stream",
     "text": [
      "/home/junhahyung/unsuplandmark/utils/_utils.py:25: YAMLLoadWarning: calling yaml.load() without Loader=... is deprecated, as the default Loader is unsafe. Please read https://msg.pyyaml.org/load for full details.\n",
      "  return yaml.load(stream)\n"
     ]
    }
   ],
   "source": [
    "config = '/home/junhahyung/unsuplandmark/configs/300w/300w_test.yaml'\n",
    "config = get_config(config)\n",
    "train_loader, test_loader = get_all_data_loaders(config)"
   ]
  },
  {
   "cell_type": "code",
   "execution_count": 3,
   "metadata": {},
   "outputs": [
    {
     "name": "stderr",
     "output_type": "stream",
     "text": [
      "/home/junhahyung/unsuplandmark/utils/datasets.py:379: UserWarning: To copy construct from a tensor, it is recommended to use sourceTensor.clone().detach() or sourceTensor.clone().detach().requires_grad_(True), rather than torch.tensor(sourceTensor).\n",
      "  kp = torch.tensor(kp)\n",
      "/home/junhahyung/unsuplandmark/utils/datasets.py:379: UserWarning: To copy construct from a tensor, it is recommended to use sourceTensor.clone().detach() or sourceTensor.clone().detach().requires_grad_(True), rather than torch.tensor(sourceTensor).\n",
      "  kp = torch.tensor(kp)\n",
      "/home/junhahyung/unsuplandmark/utils/datasets.py:379: UserWarning: To copy construct from a tensor, it is recommended to use sourceTensor.clone().detach() or sourceTensor.clone().detach().requires_grad_(True), rather than torch.tensor(sourceTensor).\n",
      "  kp = torch.tensor(kp)\n",
      "/home/junhahyung/unsuplandmark/utils/datasets.py:379: UserWarning: To copy construct from a tensor, it is recommended to use sourceTensor.clone().detach() or sourceTensor.clone().detach().requires_grad_(True), rather than torch.tensor(sourceTensor).\n",
      "  kp = torch.tensor(kp)\n"
     ]
    },
    {
     "ename": "RuntimeError",
     "evalue": "Traceback (most recent call last):\n  File \"/home/junhahyung/anaconda3/envs/torch/lib/python3.6/site-packages/torch/utils/data/_utils/worker.py\", line 99, in _worker_loop\n    samples = collate_fn([dataset[i] for i in batch_indices])\n  File \"/home/junhahyung/anaconda3/envs/torch/lib/python3.6/site-packages/torch/utils/data/_utils/collate.py\", line 63, in default_collate\n    return {key: default_collate([d[key] for d in batch]) for key in batch[0]}\n  File \"/home/junhahyung/anaconda3/envs/torch/lib/python3.6/site-packages/torch/utils/data/_utils/collate.py\", line 63, in <dictcomp>\n    return {key: default_collate([d[key] for d in batch]) for key in batch[0]}\n  File \"/home/junhahyung/anaconda3/envs/torch/lib/python3.6/site-packages/torch/utils/data/_utils/collate.py\", line 43, in default_collate\n    return torch.stack(batch, 0, out=out)\nRuntimeError: invalid argument 0: Sizes of tensors must match except in dimension 0. Got 699 and 298 in dimension 2 at /pytorch/aten/src/TH/generic/THTensor.cpp:711\n",
     "output_type": "error",
     "traceback": [
      "\u001b[0;31m------------------------------------------------------------------------\u001b[0m",
      "\u001b[0;31mRuntimeError\u001b[0m                           Traceback (most recent call last)",
      "\u001b[0;32m<ipython-input-3-8f39f98f4c19>\u001b[0m in \u001b[0;36m<module>\u001b[0;34m\u001b[0m\n\u001b[1;32m      1\u001b[0m \u001b[0mbs\u001b[0m \u001b[0;34m=\u001b[0m \u001b[0;36m8\u001b[0m\u001b[0;34m\u001b[0m\u001b[0;34m\u001b[0m\u001b[0m\n\u001b[0;32m----> 2\u001b[0;31m \u001b[0;32mfor\u001b[0m \u001b[0m_\u001b[0m\u001b[0;34m,\u001b[0m \u001b[0mdata\u001b[0m \u001b[0;32min\u001b[0m \u001b[0menumerate\u001b[0m\u001b[0;34m(\u001b[0m\u001b[0mtrain_loader\u001b[0m\u001b[0;34m)\u001b[0m\u001b[0;34m:\u001b[0m\u001b[0;34m\u001b[0m\u001b[0;34m\u001b[0m\u001b[0m\n\u001b[0m\u001b[1;32m      3\u001b[0m     \u001b[0;32mfor\u001b[0m \u001b[0mi\u001b[0m \u001b[0;32min\u001b[0m \u001b[0mrange\u001b[0m\u001b[0;34m(\u001b[0m\u001b[0mbs\u001b[0m\u001b[0;34m)\u001b[0m\u001b[0;34m:\u001b[0m\u001b[0;34m\u001b[0m\u001b[0;34m\u001b[0m\u001b[0m\n\u001b[1;32m      4\u001b[0m         \u001b[0mimg\u001b[0m \u001b[0;34m=\u001b[0m \u001b[0mdata\u001b[0m\u001b[0;34m[\u001b[0m\u001b[0;34m\"data\"\u001b[0m\u001b[0;34m]\u001b[0m\u001b[0;34m[\u001b[0m\u001b[0mi\u001b[0m\u001b[0;34m]\u001b[0m\u001b[0;34m.\u001b[0m\u001b[0mpermute\u001b[0m\u001b[0;34m(\u001b[0m\u001b[0;36m1\u001b[0m\u001b[0;34m,\u001b[0m\u001b[0;36m2\u001b[0m\u001b[0;34m,\u001b[0m\u001b[0;36m0\u001b[0m\u001b[0;34m)\u001b[0m\u001b[0;34m\u001b[0m\u001b[0;34m\u001b[0m\u001b[0m\n\u001b[1;32m      5\u001b[0m         \u001b[0mmeta\u001b[0m \u001b[0;34m=\u001b[0m \u001b[0mdata\u001b[0m\u001b[0;34m[\u001b[0m\u001b[0;34m\"meta\"\u001b[0m\u001b[0;34m]\u001b[0m\u001b[0;34m\u001b[0m\u001b[0;34m\u001b[0m\u001b[0m\n",
      "\u001b[0;32m~/anaconda3/envs/torch/lib/python3.6/site-packages/torch/utils/data/dataloader.py\u001b[0m in \u001b[0;36m__next__\u001b[0;34m(self)\u001b[0m\n\u001b[1;32m    580\u001b[0m                 \u001b[0mself\u001b[0m\u001b[0;34m.\u001b[0m\u001b[0mreorder_dict\u001b[0m\u001b[0;34m[\u001b[0m\u001b[0midx\u001b[0m\u001b[0;34m]\u001b[0m \u001b[0;34m=\u001b[0m \u001b[0mbatch\u001b[0m\u001b[0;34m\u001b[0m\u001b[0;34m\u001b[0m\u001b[0m\n\u001b[1;32m    581\u001b[0m                 \u001b[0;32mcontinue\u001b[0m\u001b[0;34m\u001b[0m\u001b[0;34m\u001b[0m\u001b[0m\n\u001b[0;32m--> 582\u001b[0;31m             \u001b[0;32mreturn\u001b[0m \u001b[0mself\u001b[0m\u001b[0;34m.\u001b[0m\u001b[0m_process_next_batch\u001b[0m\u001b[0;34m(\u001b[0m\u001b[0mbatch\u001b[0m\u001b[0;34m)\u001b[0m\u001b[0;34m\u001b[0m\u001b[0;34m\u001b[0m\u001b[0m\n\u001b[0m\u001b[1;32m    583\u001b[0m \u001b[0;34m\u001b[0m\u001b[0m\n\u001b[1;32m    584\u001b[0m     \u001b[0mnext\u001b[0m \u001b[0;34m=\u001b[0m \u001b[0m__next__\u001b[0m  \u001b[0;31m# Python 2 compatibility\u001b[0m\u001b[0;34m\u001b[0m\u001b[0;34m\u001b[0m\u001b[0m\n",
      "\u001b[0;32m~/anaconda3/envs/torch/lib/python3.6/site-packages/torch/utils/data/dataloader.py\u001b[0m in \u001b[0;36m_process_next_batch\u001b[0;34m(self, batch)\u001b[0m\n\u001b[1;32m    606\u001b[0m                 \u001b[0;32mraise\u001b[0m \u001b[0mException\u001b[0m\u001b[0;34m(\u001b[0m\u001b[0;34m\"KeyError:\"\u001b[0m \u001b[0;34m+\u001b[0m \u001b[0mbatch\u001b[0m\u001b[0;34m.\u001b[0m\u001b[0mexc_msg\u001b[0m\u001b[0;34m)\u001b[0m\u001b[0;34m\u001b[0m\u001b[0;34m\u001b[0m\u001b[0m\n\u001b[1;32m    607\u001b[0m             \u001b[0;32melse\u001b[0m\u001b[0;34m:\u001b[0m\u001b[0;34m\u001b[0m\u001b[0;34m\u001b[0m\u001b[0m\n\u001b[0;32m--> 608\u001b[0;31m                 \u001b[0;32mraise\u001b[0m \u001b[0mbatch\u001b[0m\u001b[0;34m.\u001b[0m\u001b[0mexc_type\u001b[0m\u001b[0;34m(\u001b[0m\u001b[0mbatch\u001b[0m\u001b[0;34m.\u001b[0m\u001b[0mexc_msg\u001b[0m\u001b[0;34m)\u001b[0m\u001b[0;34m\u001b[0m\u001b[0;34m\u001b[0m\u001b[0m\n\u001b[0m\u001b[1;32m    609\u001b[0m         \u001b[0;32mreturn\u001b[0m \u001b[0mbatch\u001b[0m\u001b[0;34m\u001b[0m\u001b[0;34m\u001b[0m\u001b[0m\n\u001b[1;32m    610\u001b[0m \u001b[0;34m\u001b[0m\u001b[0m\n",
      "\u001b[0;31mRuntimeError\u001b[0m: Traceback (most recent call last):\n  File \"/home/junhahyung/anaconda3/envs/torch/lib/python3.6/site-packages/torch/utils/data/_utils/worker.py\", line 99, in _worker_loop\n    samples = collate_fn([dataset[i] for i in batch_indices])\n  File \"/home/junhahyung/anaconda3/envs/torch/lib/python3.6/site-packages/torch/utils/data/_utils/collate.py\", line 63, in default_collate\n    return {key: default_collate([d[key] for d in batch]) for key in batch[0]}\n  File \"/home/junhahyung/anaconda3/envs/torch/lib/python3.6/site-packages/torch/utils/data/_utils/collate.py\", line 63, in <dictcomp>\n    return {key: default_collate([d[key] for d in batch]) for key in batch[0]}\n  File \"/home/junhahyung/anaconda3/envs/torch/lib/python3.6/site-packages/torch/utils/data/_utils/collate.py\", line 43, in default_collate\n    return torch.stack(batch, 0, out=out)\nRuntimeError: invalid argument 0: Sizes of tensors must match except in dimension 0. Got 699 and 298 in dimension 2 at /pytorch/aten/src/TH/generic/THTensor.cpp:711\n"
     ]
    }
   ],
   "source": [
    "bs = 8\n",
    "for _, data in enumerate(train_loader):\n",
    "    for i in range(bs):\n",
    "        img = data[\"data\"][i].permute(1,2,0)\n",
    "        meta = data[\"meta\"]\n",
    "        kp = meta['keypts'][i]\n",
    "        #kp_ori = meta['keypts_ori'][i]\n",
    "        #img_ori = meta['img_ori'][i].permute(1,2,0)\n",
    "        fig, axs = plt.subplots(1,2)\n",
    "        axs[0].imshow(img)\n",
    "        axs[0].scatter(kp[:,0], kp[:,1])\n",
    "        #axs[1].imshow(img_ori)\n",
    "        #axs[1].scatter(kp_ori[:,0], kp_ori[:,1])\n",
    "    break\n",
    "'''\n",
    "# before training\n",
    "\n",
    "lt = Landmark_Tester(config)\n",
    "lt.cuda()\n",
    "bs = config['batch_size']\n",
    "\n",
    "for i, (img, lm) in enumerate(test_loader):\n",
    "    img, lm = img.cuda(), lm.cuda()\n",
    "    lms = lt.infer(img)\n",
    "    lms = lms.view(-1,5,2)\n",
    "    lms = (lms + 1)/2 * 256\n",
    "    \n",
    "    \n",
    "    cols = 4\n",
    "    rows = 2\n",
    "    fig, axs = plt.subplots(rows, cols, figsize=(4 * cols, 4 * rows))\n",
    "    axs = np.ravel(axs)\n",
    "    for i in range(bs):\n",
    "        \n",
    "        axs[i].imshow(np.array(img[i].permute(1,2,0).cpu()))\n",
    "        axs[i].scatter(lms[i][:,0].cpu(), lms[i][:,1].cpu())\n",
    "    \n",
    "    break\n",
    "'''"
   ]
  },
  {
   "cell_type": "code",
   "execution_count": null,
   "metadata": {},
   "outputs": [],
   "source": [
    "# after training\n",
    "lt.load(\"outputs/mafl_test/checkpoints\")\n",
    "\n",
    "lms = lt.infer(img)\n",
    "lms = lms.view(-1,5,2)\n",
    "lms = (lms + 1)/2 * 256\n",
    "\n",
    "\n",
    "cols = 4\n",
    "rows = 2\n",
    "fig, axs = plt.subplots(rows, cols, figsize=(4 * cols, 4 * rows))\n",
    "axs = np.ravel(axs)\n",
    "for i in range(bs):\n",
    "\n",
    "    axs[i].imshow(np.array(img[i].permute(1,2,0).cpu()))\n",
    "    axs[i].scatter(lms[i][:,0].cpu(), lms[i][:,1].cpu())"
   ]
  },
  {
   "cell_type": "code",
   "execution_count": null,
   "metadata": {},
   "outputs": [],
   "source": []
  }
 ],
 "metadata": {
  "kernelspec": {
   "display_name": "Python 3",
   "language": "python",
   "name": "python3"
  },
  "language_info": {
   "codemirror_mode": {
    "name": "ipython",
    "version": 3
   },
   "file_extension": ".py",
   "mimetype": "text/x-python",
   "name": "python",
   "nbconvert_exporter": "python",
   "pygments_lexer": "ipython3",
   "version": "3.6.10"
  }
 },
 "nbformat": 4,
 "nbformat_minor": 4
}
